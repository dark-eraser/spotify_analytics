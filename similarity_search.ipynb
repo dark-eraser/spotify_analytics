{
 "cells": [
  {
   "cell_type": "code",
   "execution_count": 1,
   "id": "a744a65f",
   "metadata": {},
   "outputs": [],
   "source": [
    "import spotipy\n",
    "import time\n",
    "import requests\n",
    "import json \n",
    "import matplotlib.pyplot as plt\n",
    "from urllib.error import HTTPError\n"
   ]
  },
  {
   "cell_type": "code",
   "execution_count": 2,
   "id": "470e1e8a",
   "metadata": {},
   "outputs": [],
   "source": [
    "data= json.load(open('metadata/ids.json'))\n",
    "username = data[\"username\"]\n",
    "client_id = data[\"client-id\"]\n",
    "client_secret = data[\"client-secret\"]\n",
    "redirect_uri = 'http://localhost:7777/callback'\n",
    "scope = 'user-read-recently-played'"
   ]
  },
  {
   "cell_type": "code",
   "execution_count": 3,
   "id": "0dc13c2d",
   "metadata": {},
   "outputs": [],
   "source": [
    "token = spotipy.util.prompt_for_user_token(username=username,\n",
    "                                   scope=scope,\n",
    "                                   client_id=client_id,\n",
    "                                   client_secret=client_secret,\n",
    "                                   redirect_uri=redirect_uri)\n",
    "# print(token)\n",
    "sp_user= spotipy.Spotify(auth=token)"
   ]
  },
  {
   "cell_type": "code",
   "execution_count": 4,
   "id": "c2102327",
   "metadata": {},
   "outputs": [],
   "source": [
    "def get_ids():\n",
    "    recently_played = sp_user.current_user_recently_played(limit=50)\n",
    "    with open('metadata/recently_played.json', 'w') as outfile:\n",
    "        json.dump(recently_played, outfile)\n",
    "\n",
    "    before_dates=[]\n",
    "    return ret_ids(recently_played)\n",
    "\n",
    "def ret_ids(recently_played):\n",
    "    track_ids=[]\n",
    "    for track in recently_played['items']:\n",
    "        # print(track[\"track\"][\"id\"])\n",
    "        # print(track['track']['artists'])\n",
    "        track_ids.append(track[\"track\"]['artists'][0][\"id\"])\n",
    "        # before_dates.append(track[\"track\"][\"cursors\"][\"before\"])\n",
    "    return track_ids"
   ]
  },
  {
   "cell_type": "code",
   "execution_count": 5,
   "id": "d0a7b32c",
   "metadata": {},
   "outputs": [],
   "source": [
    "# * related artists\n",
    "related_artists_list_bis= []\n",
    "for track in get_ids():\n",
    "    related_artists =sp_user.artist_related_artists(track)\n",
    "    # print(related_artists)\n",
    "    related_artists_list_bis.append(related_artists)\n",
    "rel_artists_short = []\n",
    "for rel_artist in related_artists_list_bis:\n",
    "    for artists in rel_artist['artists']:\n",
    "        rel_artists_short.append(artists['id'])\n",
    "\n",
    "\n",
    "\n",
    "# %%\n",
    "rel_artists_short= list(set(rel_artists_short))\n",
    "# print(rel_artists_short)\n",
    "\n",
    "\n",
    "# print(rel_artists_short)\n",
    "# %%\n",
    "top_tracks_per_artist = []\n",
    "# * top tracks per related artist\n",
    "for artist in rel_artists_short:\n",
    "    top_ts=[]\n",
    "    try:\n",
    "        top_ts=sp_user.artist_top_tracks(artist, country='FR')\n",
    "    except:\n",
    "        print('error')\n",
    "    # print(top_ts['tracks'][0])\n",
    "    for track in top_ts['tracks']:\n",
    "        top_tracks_per_artist.append((track['name'],track['id']))\n",
    "        # top_tracks_per_artist.append(track['id'])\n",
    "with open('metadata/top_tracks_per_similar_artist.json', 'w') as f:\n",
    "    json.dump(top_tracks_per_artist, f)"
   ]
  },
  {
   "cell_type": "code",
   "execution_count": 6,
   "id": "9b178995",
   "metadata": {},
   "outputs": [],
   "source": [
    "scope = 'user-follow-read'\n",
    "token = spotipy.util.prompt_for_user_token(username=username,\n",
    "                                   scope=scope,\n",
    "                                   client_id=client_id,\n",
    "                                   client_secret=client_secret,\n",
    "                                   redirect_uri=redirect_uri)\n",
    "# print(token)\n",
    "sp_= spotipy.Spotify(auth=token)\n",
    "# * tracks in discovery weekly playlist\n",
    "\n",
    "disc_weekly=sp_.search(q='Discovery Weekly', type='playlist', limit=1)\n",
    "# print(disc_weekly['playlists']['items'][0]['id'])\n",
    "disc_weekly_tracks=sp_.playlist_tracks(disc_weekly['playlists']['items'][0]['id'])\n",
    "disc_weekly_tracks_ids=[]\n",
    "for track in disc_weekly_tracks['items']:\n",
    "    disc_weekly_tracks_ids.append((track['track']['name'],track['track']['id']))\n",
    "with open('metadata/disc_weekly_tracks.json', 'w') as f:\n",
    "    json.dump(disc_weekly_tracks_ids, f)"
   ]
  },
  {
   "cell_type": "code",
   "execution_count": 7,
   "id": "df6ff218",
   "metadata": {},
   "outputs": [
    {
     "name": "stdout",
     "output_type": "stream",
     "text": [
      "{('Asleep', '3YXPVCTAKjlcDJdkGAsdXT')}\n",
      "7407\n"
     ]
    },
    {
     "ename": "",
     "evalue": "",
     "output_type": "error",
     "traceback": [
      "\u001b[1;31mThe Kernel crashed while executing code in the the current cell or a previous cell. Please review the code in the cell(s) to identify a possible cause of the failure. Click <a href='https://aka.ms/vscodeJupyterKernelCrash'>here</a> for more info. View Jupyter <a href='command:jupyter.viewOutput'>log</a> for further details."
     ]
    }
   ],
   "source": [
    "print(set(top_tracks_per_artist).intersection(disc_weekly_tracks_ids))\n",
    "print(top_tracks_per_artist.__len__())"
   ]
  },
  {
   "cell_type": "markdown",
   "id": "9de18254",
   "metadata": {},
   "source": [
    "2 matches out of 6400\n"
   ]
  },
  {
   "cell_type": "code",
   "execution_count": null,
   "id": "5d13f852",
   "metadata": {},
   "outputs": [],
   "source": [
    "    "
   ]
  },
  {
   "cell_type": "code",
   "execution_count": null,
   "id": "8440a630",
   "metadata": {},
   "outputs": [],
   "source": []
  }
 ],
 "metadata": {
  "jupytext": {
   "cell_metadata_filter": "-all",
   "custom_cell_magics": "kql"
  },
  "kernelspec": {
   "display_name": "Python 3.8.8 ('base')",
   "language": "python",
   "name": "python3"
  },
  "language_info": {
   "codemirror_mode": {
    "name": "ipython",
    "version": 3
   },
   "file_extension": ".py",
   "mimetype": "text/x-python",
   "name": "python",
   "nbconvert_exporter": "python",
   "pygments_lexer": "ipython3",
   "version": "3.8.8"
  },
  "vscode": {
   "interpreter": {
    "hash": "ad2bdc8ecc057115af97d19610ffacc2b4e99fae6737bb82f5d7fb13d2f2c186"
   }
  }
 },
 "nbformat": 4,
 "nbformat_minor": 5
}
